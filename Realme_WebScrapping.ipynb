{
 "cells": [
  {
   "cell_type": "code",
   "execution_count": 71,
   "id": "f9a4851e",
   "metadata": {},
   "outputs": [],
   "source": [
    "# Importing libraries for Web-Scrapping :\n",
    "# =================================================================================================\n",
    "from bs4 import BeautifulSoup as s\n",
    "from urllib.request import urlopen as u"
   ]
  },
  {
   "cell_type": "code",
   "execution_count": 72,
   "id": "60828306",
   "metadata": {},
   "outputs": [],
   "source": [
    "# Sending link request and fetching it :\n",
    "# =================================================================================================\n",
    "link=\"https://www.flipkart.com/search?q=%20realme%20mobile&otracker=search&otracker1=search&marketplace=FLIPKART&as-show=on&as=off\"\n",
    "pagecontent=u(link)\n",
    "pagecode=pagecontent.read()"
   ]
  },
  {
   "cell_type": "code",
   "execution_count": 73,
   "id": "73cf31f3",
   "metadata": {},
   "outputs": [],
   "source": [
    "# Defining a readme page :\n",
    "# =================================================================================================\n",
    "page_file=s(pagecode)"
   ]
  },
  {
   "cell_type": "code",
   "execution_count": 75,
   "id": "d98fe978",
   "metadata": {},
   "outputs": [],
   "source": [
    "#Accessing the Product Name\n",
    "product_name=[]\n",
    "modelname=page_file.findAll(\"div\",{\"class\":'_4rR01T'})\n",
    "for i in modelname:\n",
    "    p=i.text\n",
    "    product_name.append(p)"
   ]
  },
  {
   "cell_type": "code",
   "execution_count": 76,
   "id": "0967ed66",
   "metadata": {},
   "outputs": [
    {
     "name": "stdout",
     "output_type": "stream",
     "text": [
      "['realme C11 2021 (Cool Grey, 32 GB)', 'realme C11 2021 (Cool Blue, 64 GB)', 'realme C11 2021 (Cool Blue, 32 GB)', 'realme C11 2021 (Cool Grey, 64 GB)', 'realme C25_Y (Glacier Blue, 64 GB)', 'realme C25_Y (Glacier Blue, 128 GB)', 'realme C25Y (Metal Grey, 128 GB)', 'realme C25Y (Glacier Blue, 128 GB)', 'realme C25Y (Metal Grey, 64 GB)', 'realme Narzo 50A (Oxygen Green, 128 GB)', 'realme Narzo 50A (Oxygen Blue, 128 GB)', 'realme Narzo 50A (Oxygen Green, 64 GB)', 'realme Narzo 50A (Oxygen Blue, 64 GB)', 'realme C25_Y (Metal Grey, 128 GB)', 'realme 8s 5G (Universe Purple, 128 GB)', 'realme 8s 5G (Universe Blue, 128 GB)', 'realme Narzo 50i (Mint Green, 32 GB)', 'realme Narzo 50i (Carbon Black, 32 GB)', 'realme Narzo 50i (Mint Green, 64 GB)', 'realme Narzo 50i (Carbon Black, 64 GB)', 'realme C25Y (Glacier Blue, 64 GB)', 'realme 8 5G (Supersonic Blue, 64 GB)', 'realme 8i (Space Purple, 64 GB)', 'realme 8i (Space Purple, 128 GB)']\n"
     ]
    },
    {
     "data": {
      "text/plain": [
       "24"
      ]
     },
     "execution_count": 76,
     "metadata": {},
     "output_type": "execute_result"
    }
   ],
   "source": [
    "# Printing it :\n",
    "# =================================================================================================\n",
    "print(product_name)\n",
    "len(product_name)"
   ]
  },
  {
   "cell_type": "code",
   "execution_count": 77,
   "id": "fb90f904",
   "metadata": {},
   "outputs": [],
   "source": [
    "# Accessing Rating of the Products :\n",
    "# =================================================================================================\n",
    "rating=[]\n",
    "ratingname=page_file.findAll(\"div\",{\"class\":'_3LWZlK'})\n",
    "for i in ratingname:\n",
    "    p=i.text\n",
    "    rating.append(p)"
   ]
  },
  {
   "cell_type": "code",
   "execution_count": 78,
   "id": "d13618be",
   "metadata": {},
   "outputs": [
    {
     "name": "stdout",
     "output_type": "stream",
     "text": [
      "['4.4', '4.3', '4.4', '4.3', '4.5', '4.5', '4.5', '4.5', '4.5', '4.4', '4.4', '4.4', '4.4', '4.5', '4.4', '4.4', '4.5', '4.5', '4.3', '4.3', '4.5', '4.3', '4.5', '4.4', '4.5', '4', '5', '4.3', '5', '5', '4.3', '5', '5']\n"
     ]
    },
    {
     "data": {
      "text/plain": [
       "33"
      ]
     },
     "execution_count": 78,
     "metadata": {},
     "output_type": "execute_result"
    }
   ],
   "source": [
    "# Prinitng it :\n",
    "# =================================================================================================\n",
    "print(rating)\n",
    "len(rating)"
   ]
  },
  {
   "cell_type": "code",
   "execution_count": 79,
   "id": "90ec93be",
   "metadata": {},
   "outputs": [
    {
     "data": {
      "text/plain": [
       "24"
      ]
     },
     "execution_count": 79,
     "metadata": {},
     "output_type": "execute_result"
    }
   ],
   "source": [
    "# Deleting the extra values :\n",
    "# =================================================================================================\n",
    "del rating[-10:-1]\n",
    "len(rating)"
   ]
  },
  {
   "cell_type": "code",
   "execution_count": 80,
   "id": "172b6aa8",
   "metadata": {},
   "outputs": [],
   "source": [
    "# Accessing Original Price of the Products :\n",
    "# =================================================================================================\n",
    "original_price=[]\n",
    "pr=page_file.findAll(\"div\",{\"class\":'_3I9_wc _27UcVY'})\n",
    "for i in pr:\n",
    "    p=i.text\n",
    "    original_price.append(int(p[1:].replace(',','')))"
   ]
  },
  {
   "cell_type": "code",
   "execution_count": 81,
   "id": "af6fe805",
   "metadata": {},
   "outputs": [
    {
     "name": "stdout",
     "output_type": "stream",
     "text": [
      "[7999, 9999, 7999, 9999, 12999, 13999, 13999, 13999, 12999, 13999, 13999, 12999, 12999, 13999, 22999, 22999, 7999, 7999, 9999, 9999, 12999, 15999, 15999, 17999]\n"
     ]
    },
    {
     "data": {
      "text/plain": [
       "24"
      ]
     },
     "execution_count": 81,
     "metadata": {},
     "output_type": "execute_result"
    }
   ],
   "source": [
    "# Printing it :\n",
    "# =================================================================================================\n",
    "print(original_price)\n",
    "type(original_price)\n",
    "len(original_price)"
   ]
  },
  {
   "cell_type": "code",
   "execution_count": 82,
   "id": "155a28c2",
   "metadata": {},
   "outputs": [],
   "source": [
    "# Accessing Price of the Products :\n",
    "# =================================================================================================\n",
    "price=[]\n",
    "pr=page_file.findAll(\"div\",{\"class\":'_30jeq3 _1_WHN1'})\n",
    "for i in pr:\n",
    "    p=i.text\n",
    "    price.append(int(p[1:].replace(',','')))"
   ]
  },
  {
   "cell_type": "code",
   "execution_count": 83,
   "id": "a310efaf",
   "metadata": {},
   "outputs": [
    {
     "name": "stdout",
     "output_type": "stream",
     "text": [
      "[7499, 8999, 7499, 8999, 10999, 11999, 11999, 11999, 10999, 12499, 12499, 11499, 11499, 11999, 19999, 19999, 7499, 7499, 8999, 8999, 10999, 15499, 13999, 15999]\n"
     ]
    },
    {
     "data": {
      "text/plain": [
       "24"
      ]
     },
     "execution_count": 83,
     "metadata": {},
     "output_type": "execute_result"
    }
   ],
   "source": [
    "# Printing it:\n",
    "# =================================================================================================\n",
    "print(price)\n",
    "type(price)\n",
    "len(price)"
   ]
  },
  {
   "cell_type": "code",
   "execution_count": 84,
   "id": "65797398",
   "metadata": {},
   "outputs": [],
   "source": [
    "# Accessing Delivery Type of the Products :\n",
    "# =================================================================================================\n",
    "delivery=[]\n",
    "pr=page_file.findAll(\"div\",{\"class\":'_3tcB5a p8ucoS'})\n",
    "for i in pr:\n",
    "    p=i.text\n",
    "    delivery.append(p)"
   ]
  },
  {
   "cell_type": "code",
   "execution_count": 85,
   "id": "0a5705d9",
   "metadata": {},
   "outputs": [
    {
     "name": "stdout",
     "output_type": "stream",
     "text": [
      "['Free delivery', 'Free delivery', 'Free delivery', 'Free delivery', 'Free delivery', 'Free delivery', 'Free delivery', 'Free delivery', 'Free delivery', 'Free delivery', 'Free delivery', 'Free delivery', 'Free delivery', 'Free delivery', 'Free delivery', 'Free delivery', 'Free delivery', 'Free delivery', 'Free delivery', 'Free delivery', 'Free delivery', 'Free delivery', 'Free delivery', 'Free delivery']\n"
     ]
    },
    {
     "data": {
      "text/plain": [
       "24"
      ]
     },
     "execution_count": 85,
     "metadata": {},
     "output_type": "execute_result"
    }
   ],
   "source": [
    "# Printing it :\n",
    "# =================================================================================================\n",
    "print(delivery)\n",
    "type(delivery)\n",
    "len(delivery)"
   ]
  },
  {
   "cell_type": "code",
   "execution_count": 86,
   "id": "5706327c",
   "metadata": {},
   "outputs": [],
   "source": [
    "# Accessing Discount of the Products :\n",
    "# =================================================================================================\n",
    "discount=[]\n",
    "pr=page_file.findAll(\"div\",{\"class\":'_3Ay6Sb'})\n",
    "for i in pr:\n",
    "    p=i.text\n",
    "    discount.append(p)"
   ]
  },
  {
   "cell_type": "code",
   "execution_count": 87,
   "id": "16f8ef2c",
   "metadata": {},
   "outputs": [
    {
     "name": "stdout",
     "output_type": "stream",
     "text": [
      "['6% off', '10% off', '6% off', '10% off', '15% off', '14% off', '14% off', '14% off', '15% off', '10% off', '10% off', '11% off', '11% off', '14% off', '13% off', '13% off', '6% off', '6% off', '10% off', '10% off', '15% off', '3% off', '12% off', '11% off', '14% off', '3% off', '10% off']\n"
     ]
    },
    {
     "data": {
      "text/plain": [
       "27"
      ]
     },
     "execution_count": 87,
     "metadata": {},
     "output_type": "execute_result"
    }
   ],
   "source": [
    "#Printing it :\n",
    "# =================================================================================================\n",
    "print(discount)\n",
    "len(discount)"
   ]
  },
  {
   "cell_type": "code",
   "execution_count": 88,
   "id": "d743675a",
   "metadata": {},
   "outputs": [
    {
     "data": {
      "text/plain": [
       "24"
      ]
     },
     "execution_count": 88,
     "metadata": {},
     "output_type": "execute_result"
    }
   ],
   "source": [
    "# Deleting the extra values :\n",
    "# =================================================================================================\n",
    "del discount[-4:-1]\n",
    "len(discount)"
   ]
  },
  {
   "cell_type": "code",
   "execution_count": 89,
   "id": "f78943e5",
   "metadata": {},
   "outputs": [
    {
     "data": {
      "text/plain": [
       "[500,\n",
       " 1000,\n",
       " 500,\n",
       " 1000,\n",
       " 2000,\n",
       " 2000,\n",
       " 2000,\n",
       " 2000,\n",
       " 2000,\n",
       " 1500,\n",
       " 1500,\n",
       " 1500,\n",
       " 1500,\n",
       " 2000,\n",
       " 3000,\n",
       " 3000,\n",
       " 500,\n",
       " 500,\n",
       " 1000,\n",
       " 1000,\n",
       " 2000,\n",
       " 500,\n",
       " 2000,\n",
       " 2000]"
      ]
     },
     "execution_count": 89,
     "metadata": {},
     "output_type": "execute_result"
    }
   ],
   "source": [
    "# Calculating the discount price of the Products:\n",
    "# =================================================================================================\n",
    "discount_price=[]\n",
    "for i in range(len(original_price)):\n",
    "    p=original_price[i]-price[i]\n",
    "    discount_price.append(p)\n",
    "discount_price"
   ]
  },
  {
   "cell_type": "code",
   "execution_count": 90,
   "id": "739bf5fc",
   "metadata": {},
   "outputs": [
    {
     "name": "stdout",
     "output_type": "stream",
     "text": [
      "[500, 1000, 500, 1000, 2000, 2000, 2000, 2000, 2000, 1500, 1500, 1500, 1500, 2000, 3000, 3000, 500, 500, 1000, 1000, 2000, 500, 2000, 2000]\n"
     ]
    },
    {
     "data": {
      "text/plain": [
       "24"
      ]
     },
     "execution_count": 90,
     "metadata": {},
     "output_type": "execute_result"
    }
   ],
   "source": [
    "# Printing it :\n",
    "# =================================================================================================\n",
    "print(discount_price)\n",
    "type(discount_price)\n",
    "len(discount_price)"
   ]
  },
  {
   "cell_type": "code",
   "execution_count": 91,
   "id": "30de8412",
   "metadata": {},
   "outputs": [
    {
     "data": {
      "text/plain": [
       "(24, 24, 24, 24, 24, 24)"
      ]
     },
     "execution_count": 91,
     "metadata": {},
     "output_type": "execute_result"
    }
   ],
   "source": [
    "# Checking the length of all Columns :\n",
    "# =================================================================================================\n",
    "len(product_name),len(rating),len(original_price),len(price),len(discount),len(delivery)"
   ]
  },
  {
   "cell_type": "code",
   "execution_count": 92,
   "id": "54756203",
   "metadata": {},
   "outputs": [],
   "source": [
    "# Importing library and Creating dataframe :\n",
    "# =================================================================================================\n",
    "import pandas as pd\n",
    "d={'Product_Name1':product_name,'Rating1':rating,'Original_Price1':original_price,'Price1':price,'Discount(%)1':discount,'Discount_Price1':discount_price,'Delivery1':delivery}\n",
    "data=pd.DataFrame(d)"
   ]
  },
  {
   "cell_type": "code",
   "execution_count": 93,
   "id": "07daf254",
   "metadata": {},
   "outputs": [
    {
     "data": {
      "text/html": [
       "<div>\n",
       "<style scoped>\n",
       "    .dataframe tbody tr th:only-of-type {\n",
       "        vertical-align: middle;\n",
       "    }\n",
       "\n",
       "    .dataframe tbody tr th {\n",
       "        vertical-align: top;\n",
       "    }\n",
       "\n",
       "    .dataframe thead th {\n",
       "        text-align: right;\n",
       "    }\n",
       "</style>\n",
       "<table border=\"1\" class=\"dataframe\">\n",
       "  <thead>\n",
       "    <tr style=\"text-align: right;\">\n",
       "      <th></th>\n",
       "      <th>Product_Name1</th>\n",
       "      <th>Rating1</th>\n",
       "      <th>Original_Price1</th>\n",
       "      <th>Price1</th>\n",
       "      <th>Discount(%)1</th>\n",
       "      <th>Discount_Price1</th>\n",
       "      <th>Delivery1</th>\n",
       "    </tr>\n",
       "  </thead>\n",
       "  <tbody>\n",
       "    <tr>\n",
       "      <th>0</th>\n",
       "      <td>realme C11 2021 (Cool Grey, 32 GB)</td>\n",
       "      <td>4.4</td>\n",
       "      <td>7999</td>\n",
       "      <td>7499</td>\n",
       "      <td>6% off</td>\n",
       "      <td>500</td>\n",
       "      <td>Free delivery</td>\n",
       "    </tr>\n",
       "    <tr>\n",
       "      <th>1</th>\n",
       "      <td>realme C11 2021 (Cool Blue, 64 GB)</td>\n",
       "      <td>4.3</td>\n",
       "      <td>9999</td>\n",
       "      <td>8999</td>\n",
       "      <td>10% off</td>\n",
       "      <td>1000</td>\n",
       "      <td>Free delivery</td>\n",
       "    </tr>\n",
       "    <tr>\n",
       "      <th>2</th>\n",
       "      <td>realme C11 2021 (Cool Blue, 32 GB)</td>\n",
       "      <td>4.4</td>\n",
       "      <td>7999</td>\n",
       "      <td>7499</td>\n",
       "      <td>6% off</td>\n",
       "      <td>500</td>\n",
       "      <td>Free delivery</td>\n",
       "    </tr>\n",
       "    <tr>\n",
       "      <th>3</th>\n",
       "      <td>realme C11 2021 (Cool Grey, 64 GB)</td>\n",
       "      <td>4.3</td>\n",
       "      <td>9999</td>\n",
       "      <td>8999</td>\n",
       "      <td>10% off</td>\n",
       "      <td>1000</td>\n",
       "      <td>Free delivery</td>\n",
       "    </tr>\n",
       "    <tr>\n",
       "      <th>4</th>\n",
       "      <td>realme C25_Y (Glacier Blue, 64 GB)</td>\n",
       "      <td>4.5</td>\n",
       "      <td>12999</td>\n",
       "      <td>10999</td>\n",
       "      <td>15% off</td>\n",
       "      <td>2000</td>\n",
       "      <td>Free delivery</td>\n",
       "    </tr>\n",
       "    <tr>\n",
       "      <th>5</th>\n",
       "      <td>realme C25_Y (Glacier Blue, 128 GB)</td>\n",
       "      <td>4.5</td>\n",
       "      <td>13999</td>\n",
       "      <td>11999</td>\n",
       "      <td>14% off</td>\n",
       "      <td>2000</td>\n",
       "      <td>Free delivery</td>\n",
       "    </tr>\n",
       "    <tr>\n",
       "      <th>6</th>\n",
       "      <td>realme C25Y (Metal Grey, 128 GB)</td>\n",
       "      <td>4.5</td>\n",
       "      <td>13999</td>\n",
       "      <td>11999</td>\n",
       "      <td>14% off</td>\n",
       "      <td>2000</td>\n",
       "      <td>Free delivery</td>\n",
       "    </tr>\n",
       "    <tr>\n",
       "      <th>7</th>\n",
       "      <td>realme C25Y (Glacier Blue, 128 GB)</td>\n",
       "      <td>4.5</td>\n",
       "      <td>13999</td>\n",
       "      <td>11999</td>\n",
       "      <td>14% off</td>\n",
       "      <td>2000</td>\n",
       "      <td>Free delivery</td>\n",
       "    </tr>\n",
       "    <tr>\n",
       "      <th>8</th>\n",
       "      <td>realme C25Y (Metal Grey, 64 GB)</td>\n",
       "      <td>4.5</td>\n",
       "      <td>12999</td>\n",
       "      <td>10999</td>\n",
       "      <td>15% off</td>\n",
       "      <td>2000</td>\n",
       "      <td>Free delivery</td>\n",
       "    </tr>\n",
       "    <tr>\n",
       "      <th>9</th>\n",
       "      <td>realme Narzo 50A (Oxygen Green, 128 GB)</td>\n",
       "      <td>4.4</td>\n",
       "      <td>13999</td>\n",
       "      <td>12499</td>\n",
       "      <td>10% off</td>\n",
       "      <td>1500</td>\n",
       "      <td>Free delivery</td>\n",
       "    </tr>\n",
       "    <tr>\n",
       "      <th>10</th>\n",
       "      <td>realme Narzo 50A (Oxygen Blue, 128 GB)</td>\n",
       "      <td>4.4</td>\n",
       "      <td>13999</td>\n",
       "      <td>12499</td>\n",
       "      <td>10% off</td>\n",
       "      <td>1500</td>\n",
       "      <td>Free delivery</td>\n",
       "    </tr>\n",
       "    <tr>\n",
       "      <th>11</th>\n",
       "      <td>realme Narzo 50A (Oxygen Green, 64 GB)</td>\n",
       "      <td>4.4</td>\n",
       "      <td>12999</td>\n",
       "      <td>11499</td>\n",
       "      <td>11% off</td>\n",
       "      <td>1500</td>\n",
       "      <td>Free delivery</td>\n",
       "    </tr>\n",
       "    <tr>\n",
       "      <th>12</th>\n",
       "      <td>realme Narzo 50A (Oxygen Blue, 64 GB)</td>\n",
       "      <td>4.4</td>\n",
       "      <td>12999</td>\n",
       "      <td>11499</td>\n",
       "      <td>11% off</td>\n",
       "      <td>1500</td>\n",
       "      <td>Free delivery</td>\n",
       "    </tr>\n",
       "    <tr>\n",
       "      <th>13</th>\n",
       "      <td>realme C25_Y (Metal Grey, 128 GB)</td>\n",
       "      <td>4.5</td>\n",
       "      <td>13999</td>\n",
       "      <td>11999</td>\n",
       "      <td>14% off</td>\n",
       "      <td>2000</td>\n",
       "      <td>Free delivery</td>\n",
       "    </tr>\n",
       "    <tr>\n",
       "      <th>14</th>\n",
       "      <td>realme 8s 5G (Universe Purple, 128 GB)</td>\n",
       "      <td>4.4</td>\n",
       "      <td>22999</td>\n",
       "      <td>19999</td>\n",
       "      <td>13% off</td>\n",
       "      <td>3000</td>\n",
       "      <td>Free delivery</td>\n",
       "    </tr>\n",
       "    <tr>\n",
       "      <th>15</th>\n",
       "      <td>realme 8s 5G (Universe Blue, 128 GB)</td>\n",
       "      <td>4.4</td>\n",
       "      <td>22999</td>\n",
       "      <td>19999</td>\n",
       "      <td>13% off</td>\n",
       "      <td>3000</td>\n",
       "      <td>Free delivery</td>\n",
       "    </tr>\n",
       "    <tr>\n",
       "      <th>16</th>\n",
       "      <td>realme Narzo 50i (Mint Green, 32 GB)</td>\n",
       "      <td>4.5</td>\n",
       "      <td>7999</td>\n",
       "      <td>7499</td>\n",
       "      <td>6% off</td>\n",
       "      <td>500</td>\n",
       "      <td>Free delivery</td>\n",
       "    </tr>\n",
       "    <tr>\n",
       "      <th>17</th>\n",
       "      <td>realme Narzo 50i (Carbon Black, 32 GB)</td>\n",
       "      <td>4.5</td>\n",
       "      <td>7999</td>\n",
       "      <td>7499</td>\n",
       "      <td>6% off</td>\n",
       "      <td>500</td>\n",
       "      <td>Free delivery</td>\n",
       "    </tr>\n",
       "    <tr>\n",
       "      <th>18</th>\n",
       "      <td>realme Narzo 50i (Mint Green, 64 GB)</td>\n",
       "      <td>4.3</td>\n",
       "      <td>9999</td>\n",
       "      <td>8999</td>\n",
       "      <td>10% off</td>\n",
       "      <td>1000</td>\n",
       "      <td>Free delivery</td>\n",
       "    </tr>\n",
       "    <tr>\n",
       "      <th>19</th>\n",
       "      <td>realme Narzo 50i (Carbon Black, 64 GB)</td>\n",
       "      <td>4.3</td>\n",
       "      <td>9999</td>\n",
       "      <td>8999</td>\n",
       "      <td>10% off</td>\n",
       "      <td>1000</td>\n",
       "      <td>Free delivery</td>\n",
       "    </tr>\n",
       "    <tr>\n",
       "      <th>20</th>\n",
       "      <td>realme C25Y (Glacier Blue, 64 GB)</td>\n",
       "      <td>4.5</td>\n",
       "      <td>12999</td>\n",
       "      <td>10999</td>\n",
       "      <td>15% off</td>\n",
       "      <td>2000</td>\n",
       "      <td>Free delivery</td>\n",
       "    </tr>\n",
       "    <tr>\n",
       "      <th>21</th>\n",
       "      <td>realme 8 5G (Supersonic Blue, 64 GB)</td>\n",
       "      <td>4.3</td>\n",
       "      <td>15999</td>\n",
       "      <td>15499</td>\n",
       "      <td>3% off</td>\n",
       "      <td>500</td>\n",
       "      <td>Free delivery</td>\n",
       "    </tr>\n",
       "    <tr>\n",
       "      <th>22</th>\n",
       "      <td>realme 8i (Space Purple, 64 GB)</td>\n",
       "      <td>4.5</td>\n",
       "      <td>15999</td>\n",
       "      <td>13999</td>\n",
       "      <td>12% off</td>\n",
       "      <td>2000</td>\n",
       "      <td>Free delivery</td>\n",
       "    </tr>\n",
       "    <tr>\n",
       "      <th>23</th>\n",
       "      <td>realme 8i (Space Purple, 128 GB)</td>\n",
       "      <td>5</td>\n",
       "      <td>17999</td>\n",
       "      <td>15999</td>\n",
       "      <td>10% off</td>\n",
       "      <td>2000</td>\n",
       "      <td>Free delivery</td>\n",
       "    </tr>\n",
       "  </tbody>\n",
       "</table>\n",
       "</div>"
      ],
      "text/plain": [
       "                              Product_Name1 Rating1  Original_Price1  Price1  \\\n",
       "0        realme C11 2021 (Cool Grey, 32 GB)     4.4             7999    7499   \n",
       "1        realme C11 2021 (Cool Blue, 64 GB)     4.3             9999    8999   \n",
       "2        realme C11 2021 (Cool Blue, 32 GB)     4.4             7999    7499   \n",
       "3        realme C11 2021 (Cool Grey, 64 GB)     4.3             9999    8999   \n",
       "4        realme C25_Y (Glacier Blue, 64 GB)     4.5            12999   10999   \n",
       "5       realme C25_Y (Glacier Blue, 128 GB)     4.5            13999   11999   \n",
       "6          realme C25Y (Metal Grey, 128 GB)     4.5            13999   11999   \n",
       "7        realme C25Y (Glacier Blue, 128 GB)     4.5            13999   11999   \n",
       "8           realme C25Y (Metal Grey, 64 GB)     4.5            12999   10999   \n",
       "9   realme Narzo 50A (Oxygen Green, 128 GB)     4.4            13999   12499   \n",
       "10   realme Narzo 50A (Oxygen Blue, 128 GB)     4.4            13999   12499   \n",
       "11   realme Narzo 50A (Oxygen Green, 64 GB)     4.4            12999   11499   \n",
       "12    realme Narzo 50A (Oxygen Blue, 64 GB)     4.4            12999   11499   \n",
       "13        realme C25_Y (Metal Grey, 128 GB)     4.5            13999   11999   \n",
       "14   realme 8s 5G (Universe Purple, 128 GB)     4.4            22999   19999   \n",
       "15     realme 8s 5G (Universe Blue, 128 GB)     4.4            22999   19999   \n",
       "16     realme Narzo 50i (Mint Green, 32 GB)     4.5             7999    7499   \n",
       "17   realme Narzo 50i (Carbon Black, 32 GB)     4.5             7999    7499   \n",
       "18     realme Narzo 50i (Mint Green, 64 GB)     4.3             9999    8999   \n",
       "19   realme Narzo 50i (Carbon Black, 64 GB)     4.3             9999    8999   \n",
       "20        realme C25Y (Glacier Blue, 64 GB)     4.5            12999   10999   \n",
       "21     realme 8 5G (Supersonic Blue, 64 GB)     4.3            15999   15499   \n",
       "22          realme 8i (Space Purple, 64 GB)     4.5            15999   13999   \n",
       "23         realme 8i (Space Purple, 128 GB)       5            17999   15999   \n",
       "\n",
       "   Discount(%)1  Discount_Price1      Delivery1  \n",
       "0        6% off              500  Free delivery  \n",
       "1       10% off             1000  Free delivery  \n",
       "2        6% off              500  Free delivery  \n",
       "3       10% off             1000  Free delivery  \n",
       "4       15% off             2000  Free delivery  \n",
       "5       14% off             2000  Free delivery  \n",
       "6       14% off             2000  Free delivery  \n",
       "7       14% off             2000  Free delivery  \n",
       "8       15% off             2000  Free delivery  \n",
       "9       10% off             1500  Free delivery  \n",
       "10      10% off             1500  Free delivery  \n",
       "11      11% off             1500  Free delivery  \n",
       "12      11% off             1500  Free delivery  \n",
       "13      14% off             2000  Free delivery  \n",
       "14      13% off             3000  Free delivery  \n",
       "15      13% off             3000  Free delivery  \n",
       "16       6% off              500  Free delivery  \n",
       "17       6% off              500  Free delivery  \n",
       "18      10% off             1000  Free delivery  \n",
       "19      10% off             1000  Free delivery  \n",
       "20      15% off             2000  Free delivery  \n",
       "21       3% off              500  Free delivery  \n",
       "22      12% off             2000  Free delivery  \n",
       "23      10% off             2000  Free delivery  "
      ]
     },
     "execution_count": 93,
     "metadata": {},
     "output_type": "execute_result"
    }
   ],
   "source": [
    "data"
   ]
  },
  {
   "cell_type": "code",
   "execution_count": 94,
   "id": "a220f915",
   "metadata": {},
   "outputs": [
    {
     "data": {
      "text/html": [
       "<div>\n",
       "<style scoped>\n",
       "    .dataframe tbody tr th:only-of-type {\n",
       "        vertical-align: middle;\n",
       "    }\n",
       "\n",
       "    .dataframe tbody tr th {\n",
       "        vertical-align: top;\n",
       "    }\n",
       "\n",
       "    .dataframe thead th {\n",
       "        text-align: right;\n",
       "    }\n",
       "</style>\n",
       "<table border=\"1\" class=\"dataframe\">\n",
       "  <thead>\n",
       "    <tr style=\"text-align: right;\">\n",
       "      <th></th>\n",
       "      <th>Product_Name1</th>\n",
       "      <th>Rating1</th>\n",
       "      <th>Original_Price1</th>\n",
       "      <th>Price1</th>\n",
       "      <th>Discount(%)1</th>\n",
       "      <th>Discount_Price1</th>\n",
       "      <th>Delivery1</th>\n",
       "    </tr>\n",
       "  </thead>\n",
       "  <tbody>\n",
       "    <tr>\n",
       "      <th>0</th>\n",
       "      <td>realme C11 2021 (Cool Grey, 32 GB)</td>\n",
       "      <td>4.4</td>\n",
       "      <td>7999</td>\n",
       "      <td>7499</td>\n",
       "      <td>6% off</td>\n",
       "      <td>500</td>\n",
       "      <td>Free delivery</td>\n",
       "    </tr>\n",
       "    <tr>\n",
       "      <th>1</th>\n",
       "      <td>realme C11 2021 (Cool Blue, 64 GB)</td>\n",
       "      <td>4.3</td>\n",
       "      <td>9999</td>\n",
       "      <td>8999</td>\n",
       "      <td>10% off</td>\n",
       "      <td>1000</td>\n",
       "      <td>Free delivery</td>\n",
       "    </tr>\n",
       "    <tr>\n",
       "      <th>2</th>\n",
       "      <td>realme C11 2021 (Cool Blue, 32 GB)</td>\n",
       "      <td>4.4</td>\n",
       "      <td>7999</td>\n",
       "      <td>7499</td>\n",
       "      <td>6% off</td>\n",
       "      <td>500</td>\n",
       "      <td>Free delivery</td>\n",
       "    </tr>\n",
       "    <tr>\n",
       "      <th>3</th>\n",
       "      <td>realme C11 2021 (Cool Grey, 64 GB)</td>\n",
       "      <td>4.3</td>\n",
       "      <td>9999</td>\n",
       "      <td>8999</td>\n",
       "      <td>10% off</td>\n",
       "      <td>1000</td>\n",
       "      <td>Free delivery</td>\n",
       "    </tr>\n",
       "    <tr>\n",
       "      <th>4</th>\n",
       "      <td>realme C25_Y (Glacier Blue, 64 GB)</td>\n",
       "      <td>4.5</td>\n",
       "      <td>12999</td>\n",
       "      <td>10999</td>\n",
       "      <td>15% off</td>\n",
       "      <td>2000</td>\n",
       "      <td>Free delivery</td>\n",
       "    </tr>\n",
       "    <tr>\n",
       "      <th>5</th>\n",
       "      <td>realme C25_Y (Glacier Blue, 128 GB)</td>\n",
       "      <td>4.5</td>\n",
       "      <td>13999</td>\n",
       "      <td>11999</td>\n",
       "      <td>14% off</td>\n",
       "      <td>2000</td>\n",
       "      <td>Free delivery</td>\n",
       "    </tr>\n",
       "    <tr>\n",
       "      <th>6</th>\n",
       "      <td>realme C25Y (Metal Grey, 128 GB)</td>\n",
       "      <td>4.5</td>\n",
       "      <td>13999</td>\n",
       "      <td>11999</td>\n",
       "      <td>14% off</td>\n",
       "      <td>2000</td>\n",
       "      <td>Free delivery</td>\n",
       "    </tr>\n",
       "    <tr>\n",
       "      <th>7</th>\n",
       "      <td>realme C25Y (Glacier Blue, 128 GB)</td>\n",
       "      <td>4.5</td>\n",
       "      <td>13999</td>\n",
       "      <td>11999</td>\n",
       "      <td>14% off</td>\n",
       "      <td>2000</td>\n",
       "      <td>Free delivery</td>\n",
       "    </tr>\n",
       "    <tr>\n",
       "      <th>8</th>\n",
       "      <td>realme C25Y (Metal Grey, 64 GB)</td>\n",
       "      <td>4.5</td>\n",
       "      <td>12999</td>\n",
       "      <td>10999</td>\n",
       "      <td>15% off</td>\n",
       "      <td>2000</td>\n",
       "      <td>Free delivery</td>\n",
       "    </tr>\n",
       "    <tr>\n",
       "      <th>9</th>\n",
       "      <td>realme Narzo 50A (Oxygen Green, 128 GB)</td>\n",
       "      <td>4.4</td>\n",
       "      <td>13999</td>\n",
       "      <td>12499</td>\n",
       "      <td>10% off</td>\n",
       "      <td>1500</td>\n",
       "      <td>Free delivery</td>\n",
       "    </tr>\n",
       "    <tr>\n",
       "      <th>10</th>\n",
       "      <td>realme Narzo 50A (Oxygen Blue, 128 GB)</td>\n",
       "      <td>4.4</td>\n",
       "      <td>13999</td>\n",
       "      <td>12499</td>\n",
       "      <td>10% off</td>\n",
       "      <td>1500</td>\n",
       "      <td>Free delivery</td>\n",
       "    </tr>\n",
       "  </tbody>\n",
       "</table>\n",
       "</div>"
      ],
      "text/plain": [
       "                              Product_Name1 Rating1  Original_Price1  Price1  \\\n",
       "0        realme C11 2021 (Cool Grey, 32 GB)     4.4             7999    7499   \n",
       "1        realme C11 2021 (Cool Blue, 64 GB)     4.3             9999    8999   \n",
       "2        realme C11 2021 (Cool Blue, 32 GB)     4.4             7999    7499   \n",
       "3        realme C11 2021 (Cool Grey, 64 GB)     4.3             9999    8999   \n",
       "4        realme C25_Y (Glacier Blue, 64 GB)     4.5            12999   10999   \n",
       "5       realme C25_Y (Glacier Blue, 128 GB)     4.5            13999   11999   \n",
       "6          realme C25Y (Metal Grey, 128 GB)     4.5            13999   11999   \n",
       "7        realme C25Y (Glacier Blue, 128 GB)     4.5            13999   11999   \n",
       "8           realme C25Y (Metal Grey, 64 GB)     4.5            12999   10999   \n",
       "9   realme Narzo 50A (Oxygen Green, 128 GB)     4.4            13999   12499   \n",
       "10   realme Narzo 50A (Oxygen Blue, 128 GB)     4.4            13999   12499   \n",
       "\n",
       "   Discount(%)1  Discount_Price1      Delivery1  \n",
       "0        6% off              500  Free delivery  \n",
       "1       10% off             1000  Free delivery  \n",
       "2        6% off              500  Free delivery  \n",
       "3       10% off             1000  Free delivery  \n",
       "4       15% off             2000  Free delivery  \n",
       "5       14% off             2000  Free delivery  \n",
       "6       14% off             2000  Free delivery  \n",
       "7       14% off             2000  Free delivery  \n",
       "8       15% off             2000  Free delivery  \n",
       "9       10% off             1500  Free delivery  \n",
       "10      10% off             1500  Free delivery  "
      ]
     },
     "execution_count": 94,
     "metadata": {},
     "output_type": "execute_result"
    }
   ],
   "source": [
    "# Removing the last rows so as to keep only 10 records :\n",
    "# =================================================================================================\n",
    "data.drop(data.tail(13).index,inplace=True)\n",
    "data"
   ]
  },
  {
   "cell_type": "code",
   "execution_count": 95,
   "id": "511d40f6",
   "metadata": {},
   "outputs": [],
   "source": [
    "# Converting the dataframe into Excel file\n",
    "# =================================================================================================\n",
    "data.to_excel(\"C:/Users/VidhyaDivya/OneDrive/Desktop/edubridge/Project/excel/flipkart_realme.xlsx\")"
   ]
  },
  {
   "cell_type": "code",
   "execution_count": null,
   "id": "8e769e0b",
   "metadata": {},
   "outputs": [],
   "source": [
    "# The data is stored in the file mentioned."
   ]
  }
 ],
 "metadata": {
  "kernelspec": {
   "display_name": "Python 3",
   "language": "python",
   "name": "python3"
  },
  "language_info": {
   "codemirror_mode": {
    "name": "ipython",
    "version": 3
   },
   "file_extension": ".py",
   "mimetype": "text/x-python",
   "name": "python",
   "nbconvert_exporter": "python",
   "pygments_lexer": "ipython3",
   "version": "3.8.8"
  }
 },
 "nbformat": 4,
 "nbformat_minor": 5
}
