{
 "cells": [
  {
   "cell_type": "code",
   "execution_count": 1,
   "id": "426f27e1",
   "metadata": {},
   "outputs": [],
   "source": [
    "# Importing libraries for Web-Scrapping :\n",
    "# =================================================================================================\n",
    "from bs4 import BeautifulSoup as s\n",
    "from urllib.request import urlopen as u"
   ]
  },
  {
   "cell_type": "code",
   "execution_count": 5,
   "id": "f60f3d60",
   "metadata": {},
   "outputs": [],
   "source": [
    "# Sending link request and fetching it :\n",
    "# =================================================================================================\n",
    "link=\"https://www.flipkart.com/search?q=samsung+mobiles&sid=tyy%2C4io&as=on&as-show=on&otracker=AS_QueryStore_OrganicAutoSuggest_1_2_na_na_na&otracker1=AS_QueryStore_OrganicAutoSuggest_1_2_na_na_na&as-pos=1&as-type=RECENT&suggestionId=samsung+mobiles%7CMobiles&requestId=b3fb394f-3d85-41d0-8a5f-a3fd303b9064&as-searchtext=sa\"\n",
    "pagecontent=u(link)\n",
    "pagecode=pagecontent.read()"
   ]
  },
  {
   "cell_type": "code",
   "execution_count": 6,
   "id": "b1ced683",
   "metadata": {},
   "outputs": [],
   "source": [
    "# Defining a readme page :\n",
    "# =================================================================================================\n",
    "page_file=s(pagecode)"
   ]
  },
  {
   "cell_type": "code",
   "execution_count": 8,
   "id": "c01f38e4",
   "metadata": {},
   "outputs": [],
   "source": [
    "#Accessing the Product Name\n",
    "product_name=[]\n",
    "modelname=page_file.findAll(\"div\",{\"class\":'_4rR01T'})\n",
    "for i in modelname:\n",
    "    p=i.text\n",
    "    product_name.append(p)"
   ]
  },
  {
   "cell_type": "code",
   "execution_count": 10,
   "id": "d76cb72a",
   "metadata": {},
   "outputs": [
    {
     "name": "stdout",
     "output_type": "stream",
     "text": [
      "['SAMSUNG Galaxy F22 (Denim Blue, 128 GB)', 'SAMSUNG Galaxy F12 (Sky Blue, 64 GB)', 'SAMSUNG Galaxy F12 (Celestial Black, 64 GB)', 'SAMSUNG Galaxy F22 (Denim Blue, 64 GB)', 'SAMSUNG Galaxy F12 (Sea Green, 64 GB)', 'SAMSUNG Galaxy F22 (Denim Black, 64 GB)', 'SAMSUNG Galaxy F12 (Sky Blue, 128 GB)', 'SAMSUNG M32 5G (Slate Black, 128 GB)', 'SAMSUNG Galaxy F12 (Sea Green, 128 GB)', 'SAMSUNG Galaxy M32 5G (Sky Blue, 128 GB)', 'SAMSUNG Galaxy M12 (White, 128 GB)', 'SAMSUNG Galaxy M11 (Black, 64 GB)', 'SAMSUNG Galaxy A70s (Prism Crush White, 128 GB)', 'SAMSUNG Galaxy A03 Core (Black, 32 GB)', 'SAMSUNG Galaxy M32 (Light Blue, 128 GB)', 'SAMSUNG Galaxy A03 Core (Blue, 32 GB)', 'SAMSUNG M21 2021 Edition (Charcoal Black, 64 GB)', 'SAMSUNG Galaxy M32 (Black, 128 GB)', 'SAMSUNG Galaxy A52s 5G (Awesome Mint, 128 GB)', 'SAMSUNG Galaxy M32 (Black, 64 GB)', 'SAMSUNG Galaxy M32 (Light Blue, 64 GB)', 'SAMSUNG Galaxy A22 5G (Mint, 128 GB)', 'SAMSUNG Metro 313 Dual Sim', 'SAMSUNG Galaxy M12 (White, 64 GB)']\n"
     ]
    },
    {
     "data": {
      "text/plain": [
       "24"
      ]
     },
     "execution_count": 10,
     "metadata": {},
     "output_type": "execute_result"
    }
   ],
   "source": [
    "# Printing it :\n",
    "# =================================================================================================\n",
    "print(product_name)\n",
    "len(product_name)"
   ]
  },
  {
   "cell_type": "code",
   "execution_count": 11,
   "id": "fd8fa558",
   "metadata": {},
   "outputs": [],
   "source": [
    "# Accessing Rating of the Products :\n",
    "# =================================================================================================\n",
    "rating=[]\n",
    "ratingname=page_file.findAll(\"div\",{\"class\":'_3LWZlK'})\n",
    "for i in ratingname:\n",
    "    p=i.text\n",
    "    rating.append(p)"
   ]
  },
  {
   "cell_type": "code",
   "execution_count": 12,
   "id": "ad8efd8f",
   "metadata": {},
   "outputs": [
    {
     "name": "stdout",
     "output_type": "stream",
     "text": [
      "['4.3', '4.2', '4.2', '4.3', '4.2', '4.3', '4.2', '4.2', '4.2', '4.2', '4.2', '4.2', '4.4', '4.4', '4.3', '4.4', '4.2', '4.3', '4.3', '4.2', '4.2', '4.1', '4.3', '4.2', '4.2', '1', '5', '4.3', '5', '5', '4.1', '1', '5', '4.3', '5', '5', '4.2', '5', '1']\n"
     ]
    },
    {
     "data": {
      "text/plain": [
       "39"
      ]
     },
     "execution_count": 12,
     "metadata": {},
     "output_type": "execute_result"
    }
   ],
   "source": [
    "# Prinitng it :\n",
    "# =================================================================================================\n",
    "print(rating)\n",
    "len(rating)"
   ]
  },
  {
   "cell_type": "code",
   "execution_count": 13,
   "id": "0ea77376",
   "metadata": {},
   "outputs": [
    {
     "data": {
      "text/plain": [
       "24"
      ]
     },
     "execution_count": 13,
     "metadata": {},
     "output_type": "execute_result"
    }
   ],
   "source": [
    "# Deleting the extra values :\n",
    "# =================================================================================================\n",
    "del rating[-16:-1]\n",
    "len(rating)"
   ]
  },
  {
   "cell_type": "code",
   "execution_count": 14,
   "id": "fba8aee9",
   "metadata": {},
   "outputs": [],
   "source": [
    "# Accessing Original Price of the Products :\n",
    "# =================================================================================================\n",
    "original_price=[]\n",
    "pr=page_file.findAll(\"div\",{\"class\":'_3I9_wc _27UcVY'})\n",
    "for i in pr:\n",
    "    p=i.text\n",
    "    original_price.append(int(p[1:].replace(',','')))"
   ]
  },
  {
   "cell_type": "code",
   "execution_count": 16,
   "id": "de55f0e5",
   "metadata": {},
   "outputs": [
    {
     "name": "stdout",
     "output_type": "stream",
     "text": [
      "[16999, 12999, 12999, 14999, 12999, 14999, 13999, 20200, 13999, 22584, 14170, 11300, 33100, 10499, 18150, 10499, 18200, 32990, 15980, 16250, 23999, 12900]\n"
     ]
    },
    {
     "data": {
      "text/plain": [
       "22"
      ]
     },
     "execution_count": 16,
     "metadata": {},
     "output_type": "execute_result"
    }
   ],
   "source": [
    "# Printing it :\n",
    "# =================================================================================================\n",
    "print(original_price)\n",
    "type(original_price)\n",
    "len(original_price)"
   ]
  },
  {
   "cell_type": "code",
   "execution_count": 17,
   "id": "ca1f0bed",
   "metadata": {},
   "outputs": [],
   "source": [
    "# Entering some values manually where there is no discount on the Products :\n",
    "# =================================================================================================\n",
    "original_price.insert(16,13490)\n",
    "original_price.insert(22,2499)"
   ]
  },
  {
   "cell_type": "code",
   "execution_count": 18,
   "id": "9c7f8421",
   "metadata": {},
   "outputs": [
    {
     "name": "stdout",
     "output_type": "stream",
     "text": [
      "[16999, 12999, 12999, 14999, 12999, 14999, 13999, 20200, 13999, 22584, 14170, 11300, 33100, 10499, 18150, 10499, 13490, 18200, 32990, 15980, 16250, 23999, 2499, 12900]\n"
     ]
    },
    {
     "data": {
      "text/plain": [
       "24"
      ]
     },
     "execution_count": 18,
     "metadata": {},
     "output_type": "execute_result"
    }
   ],
   "source": [
    "# Printing it :\n",
    "# =================================================================================================\n",
    "print(original_price)\n",
    "type(original_price)\n",
    "len(original_price)"
   ]
  },
  {
   "cell_type": "code",
   "execution_count": 19,
   "id": "956d0770",
   "metadata": {},
   "outputs": [],
   "source": [
    "# Accessing Price of the Products :\n",
    "# =================================================================================================\n",
    "price=[]\n",
    "pr=page_file.findAll(\"div\",{\"class\":'_30jeq3 _1_WHN1'})\n",
    "for i in pr:\n",
    "    p=i.text\n",
    "    price.append(int(p[1:].replace(',','')))"
   ]
  },
  {
   "cell_type": "code",
   "execution_count": 20,
   "id": "5b6f71be",
   "metadata": {},
   "outputs": [
    {
     "name": "stdout",
     "output_type": "stream",
     "text": [
      "[14999, 11499, 11499, 12999, 11499, 12999, 12499, 19000, 12499, 21189, 13871, 11159, 19999, 7999, 17799, 7999, 13490, 17708, 32849, 15148, 15199, 21999, 2499, 11244]\n"
     ]
    },
    {
     "data": {
      "text/plain": [
       "24"
      ]
     },
     "execution_count": 20,
     "metadata": {},
     "output_type": "execute_result"
    }
   ],
   "source": [
    "# Printing it:\n",
    "# =================================================================================================\n",
    "print(price)\n",
    "type(price)\n",
    "len(price)"
   ]
  },
  {
   "cell_type": "code",
   "execution_count": 21,
   "id": "561f25ca",
   "metadata": {},
   "outputs": [],
   "source": [
    "# Accessing Delivery Type of the Products :\n",
    "# =================================================================================================\n",
    "delivery=[]\n",
    "pr=page_file.findAll(\"div\",{\"class\":'_3tcB5a p8ucoS'})\n",
    "for i in pr:\n",
    "    p=i.text\n",
    "    delivery.append(p)"
   ]
  },
  {
   "cell_type": "code",
   "execution_count": 22,
   "id": "8f4d339c",
   "metadata": {},
   "outputs": [
    {
     "name": "stdout",
     "output_type": "stream",
     "text": [
      "['Free delivery', 'Free delivery', 'Free delivery', 'Free delivery', 'Free delivery', 'Free delivery', 'Free delivery', 'Free delivery', 'Free delivery', 'Free delivery', 'Free delivery', 'Free delivery', 'Free delivery', 'Free delivery', 'Free delivery', 'Free delivery', 'Free delivery', 'Free delivery', 'Free delivery', 'Free delivery', 'Free delivery', 'Free delivery', 'Free delivery', 'Free delivery']\n"
     ]
    },
    {
     "data": {
      "text/plain": [
       "24"
      ]
     },
     "execution_count": 22,
     "metadata": {},
     "output_type": "execute_result"
    }
   ],
   "source": [
    "# Printing it :\n",
    "# =================================================================================================\n",
    "print(delivery)\n",
    "type(delivery)\n",
    "len(delivery)"
   ]
  },
  {
   "cell_type": "code",
   "execution_count": 23,
   "id": "8329bb52",
   "metadata": {},
   "outputs": [],
   "source": [
    "# Accessing Discount of the Products :\n",
    "# =================================================================================================\n",
    "discount=[]\n",
    "pr=page_file.findAll(\"div\",{\"class\":'_3Ay6Sb'})\n",
    "for i in pr:\n",
    "    p=i.text\n",
    "    discount.append(p)"
   ]
  },
  {
   "cell_type": "code",
   "execution_count": 25,
   "id": "6725a735",
   "metadata": {},
   "outputs": [
    {
     "name": "stdout",
     "output_type": "stream",
     "text": [
      "['11% off', '11% off', '11% off', '13% off', '11% off', '13% off', '10% off', '5% off', '10% off', '6% off', '2% off', '1% off', '39% off', '23% off', '1% off', '23% off', '2% off', '5% off', '6% off', '8% off', '12% off', '6% off', '8% off', '12% off']\n"
     ]
    },
    {
     "data": {
      "text/plain": [
       "24"
      ]
     },
     "execution_count": 25,
     "metadata": {},
     "output_type": "execute_result"
    }
   ],
   "source": [
    "#Printing it :\n",
    "# =================================================================================================\n",
    "print(discount)\n",
    "len(discount)"
   ]
  },
  {
   "cell_type": "code",
   "execution_count": 26,
   "id": "07df613a",
   "metadata": {},
   "outputs": [],
   "source": [
    "# Entering some values manually where there is no discount on the Products :\n",
    "# =================================================================================================\n",
    "discount.insert(16,\"0% off\")\n",
    "discount.insert(18,\"0% off\")\n",
    "discount.insert(22,\"0% off\")\n"
   ]
  },
  {
   "cell_type": "code",
   "execution_count": 27,
   "id": "7c094a09",
   "metadata": {},
   "outputs": [
    {
     "name": "stdout",
     "output_type": "stream",
     "text": [
      "['11% off', '11% off', '11% off', '13% off', '11% off', '13% off', '10% off', '5% off', '10% off', '6% off', '2% off', '1% off', '39% off', '23% off', '1% off', '23% off', '0% off', '2% off', '0% off', '5% off', '6% off', '8% off', '0% off', '12% off', '6% off', '8% off', '12% off']\n"
     ]
    },
    {
     "data": {
      "text/plain": [
       "27"
      ]
     },
     "execution_count": 27,
     "metadata": {},
     "output_type": "execute_result"
    }
   ],
   "source": [
    "# Prinitng it :\n",
    "# =================================================================================================\n",
    "print(discount)\n",
    "type(discount)\n",
    "len(discount)"
   ]
  },
  {
   "cell_type": "code",
   "execution_count": 28,
   "id": "8d2e9f94",
   "metadata": {},
   "outputs": [
    {
     "data": {
      "text/plain": [
       "24"
      ]
     },
     "execution_count": 28,
     "metadata": {},
     "output_type": "execute_result"
    }
   ],
   "source": [
    "# Deleting the extra values :\n",
    "# =================================================================================================\n",
    "del discount[-4:-1]\n",
    "len(discount)"
   ]
  },
  {
   "cell_type": "code",
   "execution_count": 29,
   "id": "2343ede9",
   "metadata": {},
   "outputs": [
    {
     "data": {
      "text/plain": [
       "[2000,\n",
       " 1500,\n",
       " 1500,\n",
       " 2000,\n",
       " 1500,\n",
       " 2000,\n",
       " 1500,\n",
       " 1200,\n",
       " 1500,\n",
       " 1395,\n",
       " 299,\n",
       " 141,\n",
       " 13101,\n",
       " 2500,\n",
       " 351,\n",
       " 2500,\n",
       " 0,\n",
       " 492,\n",
       " 141,\n",
       " 832,\n",
       " 1051,\n",
       " 2000,\n",
       " 0,\n",
       " 1656]"
      ]
     },
     "execution_count": 29,
     "metadata": {},
     "output_type": "execute_result"
    }
   ],
   "source": [
    "# Calculating the discount price of the Products:\n",
    "# =================================================================================================\n",
    "discount_price=[]\n",
    "for i in range(len(original_price)):\n",
    "    p=original_price[i]-price[i]\n",
    "    discount_price.append(p)\n",
    "discount_price"
   ]
  },
  {
   "cell_type": "code",
   "execution_count": 30,
   "id": "c8846785",
   "metadata": {},
   "outputs": [
    {
     "name": "stdout",
     "output_type": "stream",
     "text": [
      "[2000, 1500, 1500, 2000, 1500, 2000, 1500, 1200, 1500, 1395, 299, 141, 13101, 2500, 351, 2500, 0, 492, 141, 832, 1051, 2000, 0, 1656]\n"
     ]
    },
    {
     "data": {
      "text/plain": [
       "24"
      ]
     },
     "execution_count": 30,
     "metadata": {},
     "output_type": "execute_result"
    }
   ],
   "source": [
    "# Printing it :\n",
    "# =================================================================================================\n",
    "print(discount_price)\n",
    "type(discount_price)\n",
    "len(discount_price)"
   ]
  },
  {
   "cell_type": "code",
   "execution_count": 31,
   "id": "36c6cd51",
   "metadata": {},
   "outputs": [
    {
     "data": {
      "text/plain": [
       "(24, 24, 24, 24, 24, 24)"
      ]
     },
     "execution_count": 31,
     "metadata": {},
     "output_type": "execute_result"
    }
   ],
   "source": [
    "# Checking the length of all Columns :\n",
    "# =================================================================================================\n",
    "len(product_name),len(rating),len(original_price),len(price),len(discount),len(delivery)"
   ]
  },
  {
   "cell_type": "code",
   "execution_count": 32,
   "id": "67888454",
   "metadata": {},
   "outputs": [],
   "source": [
    "# Importing library and Creating dataframe :\n",
    "# =================================================================================================\n",
    "import pandas as pd\n",
    "d={'Product_Name2':product_name,'Rating2':rating,'Original_Price2':original_price,'Price2':price,'Discount(%)2':discount,'Discount_Price2':discount_price,'Delivery2':delivery}\n",
    "data=pd.DataFrame(d)"
   ]
  },
  {
   "cell_type": "code",
   "execution_count": 33,
   "id": "08c13c0e",
   "metadata": {},
   "outputs": [
    {
     "data": {
      "text/html": [
       "<div>\n",
       "<style scoped>\n",
       "    .dataframe tbody tr th:only-of-type {\n",
       "        vertical-align: middle;\n",
       "    }\n",
       "\n",
       "    .dataframe tbody tr th {\n",
       "        vertical-align: top;\n",
       "    }\n",
       "\n",
       "    .dataframe thead th {\n",
       "        text-align: right;\n",
       "    }\n",
       "</style>\n",
       "<table border=\"1\" class=\"dataframe\">\n",
       "  <thead>\n",
       "    <tr style=\"text-align: right;\">\n",
       "      <th></th>\n",
       "      <th>Product_Name2</th>\n",
       "      <th>Rating2</th>\n",
       "      <th>Original_Price2</th>\n",
       "      <th>Price2</th>\n",
       "      <th>Discount(%)2</th>\n",
       "      <th>Discount_Price2</th>\n",
       "      <th>Delivery2</th>\n",
       "    </tr>\n",
       "  </thead>\n",
       "  <tbody>\n",
       "    <tr>\n",
       "      <th>0</th>\n",
       "      <td>SAMSUNG Galaxy F22 (Denim Blue, 128 GB)</td>\n",
       "      <td>4.3</td>\n",
       "      <td>16999</td>\n",
       "      <td>14999</td>\n",
       "      <td>11% off</td>\n",
       "      <td>2000</td>\n",
       "      <td>Free delivery</td>\n",
       "    </tr>\n",
       "    <tr>\n",
       "      <th>1</th>\n",
       "      <td>SAMSUNG Galaxy F12 (Sky Blue, 64 GB)</td>\n",
       "      <td>4.2</td>\n",
       "      <td>12999</td>\n",
       "      <td>11499</td>\n",
       "      <td>11% off</td>\n",
       "      <td>1500</td>\n",
       "      <td>Free delivery</td>\n",
       "    </tr>\n",
       "    <tr>\n",
       "      <th>2</th>\n",
       "      <td>SAMSUNG Galaxy F12 (Celestial Black, 64 GB)</td>\n",
       "      <td>4.2</td>\n",
       "      <td>12999</td>\n",
       "      <td>11499</td>\n",
       "      <td>11% off</td>\n",
       "      <td>1500</td>\n",
       "      <td>Free delivery</td>\n",
       "    </tr>\n",
       "    <tr>\n",
       "      <th>3</th>\n",
       "      <td>SAMSUNG Galaxy F22 (Denim Blue, 64 GB)</td>\n",
       "      <td>4.3</td>\n",
       "      <td>14999</td>\n",
       "      <td>12999</td>\n",
       "      <td>13% off</td>\n",
       "      <td>2000</td>\n",
       "      <td>Free delivery</td>\n",
       "    </tr>\n",
       "    <tr>\n",
       "      <th>4</th>\n",
       "      <td>SAMSUNG Galaxy F12 (Sea Green, 64 GB)</td>\n",
       "      <td>4.2</td>\n",
       "      <td>12999</td>\n",
       "      <td>11499</td>\n",
       "      <td>11% off</td>\n",
       "      <td>1500</td>\n",
       "      <td>Free delivery</td>\n",
       "    </tr>\n",
       "    <tr>\n",
       "      <th>5</th>\n",
       "      <td>SAMSUNG Galaxy F22 (Denim Black, 64 GB)</td>\n",
       "      <td>4.3</td>\n",
       "      <td>14999</td>\n",
       "      <td>12999</td>\n",
       "      <td>13% off</td>\n",
       "      <td>2000</td>\n",
       "      <td>Free delivery</td>\n",
       "    </tr>\n",
       "    <tr>\n",
       "      <th>6</th>\n",
       "      <td>SAMSUNG Galaxy F12 (Sky Blue, 128 GB)</td>\n",
       "      <td>4.2</td>\n",
       "      <td>13999</td>\n",
       "      <td>12499</td>\n",
       "      <td>10% off</td>\n",
       "      <td>1500</td>\n",
       "      <td>Free delivery</td>\n",
       "    </tr>\n",
       "    <tr>\n",
       "      <th>7</th>\n",
       "      <td>SAMSUNG M32 5G (Slate Black, 128 GB)</td>\n",
       "      <td>4.2</td>\n",
       "      <td>20200</td>\n",
       "      <td>19000</td>\n",
       "      <td>5% off</td>\n",
       "      <td>1200</td>\n",
       "      <td>Free delivery</td>\n",
       "    </tr>\n",
       "    <tr>\n",
       "      <th>8</th>\n",
       "      <td>SAMSUNG Galaxy F12 (Sea Green, 128 GB)</td>\n",
       "      <td>4.2</td>\n",
       "      <td>13999</td>\n",
       "      <td>12499</td>\n",
       "      <td>10% off</td>\n",
       "      <td>1500</td>\n",
       "      <td>Free delivery</td>\n",
       "    </tr>\n",
       "    <tr>\n",
       "      <th>9</th>\n",
       "      <td>SAMSUNG Galaxy M32 5G (Sky Blue, 128 GB)</td>\n",
       "      <td>4.2</td>\n",
       "      <td>22584</td>\n",
       "      <td>21189</td>\n",
       "      <td>6% off</td>\n",
       "      <td>1395</td>\n",
       "      <td>Free delivery</td>\n",
       "    </tr>\n",
       "    <tr>\n",
       "      <th>10</th>\n",
       "      <td>SAMSUNG Galaxy M12 (White, 128 GB)</td>\n",
       "      <td>4.2</td>\n",
       "      <td>14170</td>\n",
       "      <td>13871</td>\n",
       "      <td>2% off</td>\n",
       "      <td>299</td>\n",
       "      <td>Free delivery</td>\n",
       "    </tr>\n",
       "    <tr>\n",
       "      <th>11</th>\n",
       "      <td>SAMSUNG Galaxy M11 (Black, 64 GB)</td>\n",
       "      <td>4.2</td>\n",
       "      <td>11300</td>\n",
       "      <td>11159</td>\n",
       "      <td>1% off</td>\n",
       "      <td>141</td>\n",
       "      <td>Free delivery</td>\n",
       "    </tr>\n",
       "    <tr>\n",
       "      <th>12</th>\n",
       "      <td>SAMSUNG Galaxy A70s (Prism Crush White, 128 GB)</td>\n",
       "      <td>4.4</td>\n",
       "      <td>33100</td>\n",
       "      <td>19999</td>\n",
       "      <td>39% off</td>\n",
       "      <td>13101</td>\n",
       "      <td>Free delivery</td>\n",
       "    </tr>\n",
       "    <tr>\n",
       "      <th>13</th>\n",
       "      <td>SAMSUNG Galaxy A03 Core (Black, 32 GB)</td>\n",
       "      <td>4.4</td>\n",
       "      <td>10499</td>\n",
       "      <td>7999</td>\n",
       "      <td>23% off</td>\n",
       "      <td>2500</td>\n",
       "      <td>Free delivery</td>\n",
       "    </tr>\n",
       "    <tr>\n",
       "      <th>14</th>\n",
       "      <td>SAMSUNG Galaxy M32 (Light Blue, 128 GB)</td>\n",
       "      <td>4.3</td>\n",
       "      <td>18150</td>\n",
       "      <td>17799</td>\n",
       "      <td>1% off</td>\n",
       "      <td>351</td>\n",
       "      <td>Free delivery</td>\n",
       "    </tr>\n",
       "    <tr>\n",
       "      <th>15</th>\n",
       "      <td>SAMSUNG Galaxy A03 Core (Blue, 32 GB)</td>\n",
       "      <td>4.4</td>\n",
       "      <td>10499</td>\n",
       "      <td>7999</td>\n",
       "      <td>23% off</td>\n",
       "      <td>2500</td>\n",
       "      <td>Free delivery</td>\n",
       "    </tr>\n",
       "    <tr>\n",
       "      <th>16</th>\n",
       "      <td>SAMSUNG M21 2021 Edition (Charcoal Black, 64 GB)</td>\n",
       "      <td>4.2</td>\n",
       "      <td>13490</td>\n",
       "      <td>13490</td>\n",
       "      <td>0% off</td>\n",
       "      <td>0</td>\n",
       "      <td>Free delivery</td>\n",
       "    </tr>\n",
       "    <tr>\n",
       "      <th>17</th>\n",
       "      <td>SAMSUNG Galaxy M32 (Black, 128 GB)</td>\n",
       "      <td>4.3</td>\n",
       "      <td>18200</td>\n",
       "      <td>17708</td>\n",
       "      <td>2% off</td>\n",
       "      <td>492</td>\n",
       "      <td>Free delivery</td>\n",
       "    </tr>\n",
       "    <tr>\n",
       "      <th>18</th>\n",
       "      <td>SAMSUNG Galaxy A52s 5G (Awesome Mint, 128 GB)</td>\n",
       "      <td>4.3</td>\n",
       "      <td>32990</td>\n",
       "      <td>32849</td>\n",
       "      <td>0% off</td>\n",
       "      <td>141</td>\n",
       "      <td>Free delivery</td>\n",
       "    </tr>\n",
       "    <tr>\n",
       "      <th>19</th>\n",
       "      <td>SAMSUNG Galaxy M32 (Black, 64 GB)</td>\n",
       "      <td>4.2</td>\n",
       "      <td>15980</td>\n",
       "      <td>15148</td>\n",
       "      <td>5% off</td>\n",
       "      <td>832</td>\n",
       "      <td>Free delivery</td>\n",
       "    </tr>\n",
       "    <tr>\n",
       "      <th>20</th>\n",
       "      <td>SAMSUNG Galaxy M32 (Light Blue, 64 GB)</td>\n",
       "      <td>4.2</td>\n",
       "      <td>16250</td>\n",
       "      <td>15199</td>\n",
       "      <td>6% off</td>\n",
       "      <td>1051</td>\n",
       "      <td>Free delivery</td>\n",
       "    </tr>\n",
       "    <tr>\n",
       "      <th>21</th>\n",
       "      <td>SAMSUNG Galaxy A22 5G (Mint, 128 GB)</td>\n",
       "      <td>4.1</td>\n",
       "      <td>23999</td>\n",
       "      <td>21999</td>\n",
       "      <td>8% off</td>\n",
       "      <td>2000</td>\n",
       "      <td>Free delivery</td>\n",
       "    </tr>\n",
       "    <tr>\n",
       "      <th>22</th>\n",
       "      <td>SAMSUNG Metro 313 Dual Sim</td>\n",
       "      <td>4.3</td>\n",
       "      <td>2499</td>\n",
       "      <td>2499</td>\n",
       "      <td>0% off</td>\n",
       "      <td>0</td>\n",
       "      <td>Free delivery</td>\n",
       "    </tr>\n",
       "    <tr>\n",
       "      <th>23</th>\n",
       "      <td>SAMSUNG Galaxy M12 (White, 64 GB)</td>\n",
       "      <td>1</td>\n",
       "      <td>12900</td>\n",
       "      <td>11244</td>\n",
       "      <td>12% off</td>\n",
       "      <td>1656</td>\n",
       "      <td>Free delivery</td>\n",
       "    </tr>\n",
       "  </tbody>\n",
       "</table>\n",
       "</div>"
      ],
      "text/plain": [
       "                                       Product_Name2 Rating2  Original_Price2  \\\n",
       "0            SAMSUNG Galaxy F22 (Denim Blue, 128 GB)     4.3            16999   \n",
       "1               SAMSUNG Galaxy F12 (Sky Blue, 64 GB)     4.2            12999   \n",
       "2        SAMSUNG Galaxy F12 (Celestial Black, 64 GB)     4.2            12999   \n",
       "3             SAMSUNG Galaxy F22 (Denim Blue, 64 GB)     4.3            14999   \n",
       "4              SAMSUNG Galaxy F12 (Sea Green, 64 GB)     4.2            12999   \n",
       "5            SAMSUNG Galaxy F22 (Denim Black, 64 GB)     4.3            14999   \n",
       "6              SAMSUNG Galaxy F12 (Sky Blue, 128 GB)     4.2            13999   \n",
       "7               SAMSUNG M32 5G (Slate Black, 128 GB)     4.2            20200   \n",
       "8             SAMSUNG Galaxy F12 (Sea Green, 128 GB)     4.2            13999   \n",
       "9           SAMSUNG Galaxy M32 5G (Sky Blue, 128 GB)     4.2            22584   \n",
       "10                SAMSUNG Galaxy M12 (White, 128 GB)     4.2            14170   \n",
       "11                 SAMSUNG Galaxy M11 (Black, 64 GB)     4.2            11300   \n",
       "12   SAMSUNG Galaxy A70s (Prism Crush White, 128 GB)     4.4            33100   \n",
       "13            SAMSUNG Galaxy A03 Core (Black, 32 GB)     4.4            10499   \n",
       "14           SAMSUNG Galaxy M32 (Light Blue, 128 GB)     4.3            18150   \n",
       "15             SAMSUNG Galaxy A03 Core (Blue, 32 GB)     4.4            10499   \n",
       "16  SAMSUNG M21 2021 Edition (Charcoal Black, 64 GB)     4.2            13490   \n",
       "17                SAMSUNG Galaxy M32 (Black, 128 GB)     4.3            18200   \n",
       "18     SAMSUNG Galaxy A52s 5G (Awesome Mint, 128 GB)     4.3            32990   \n",
       "19                 SAMSUNG Galaxy M32 (Black, 64 GB)     4.2            15980   \n",
       "20            SAMSUNG Galaxy M32 (Light Blue, 64 GB)     4.2            16250   \n",
       "21              SAMSUNG Galaxy A22 5G (Mint, 128 GB)     4.1            23999   \n",
       "22                        SAMSUNG Metro 313 Dual Sim     4.3             2499   \n",
       "23                 SAMSUNG Galaxy M12 (White, 64 GB)       1            12900   \n",
       "\n",
       "    Price2 Discount(%)2  Discount_Price2      Delivery2  \n",
       "0    14999      11% off             2000  Free delivery  \n",
       "1    11499      11% off             1500  Free delivery  \n",
       "2    11499      11% off             1500  Free delivery  \n",
       "3    12999      13% off             2000  Free delivery  \n",
       "4    11499      11% off             1500  Free delivery  \n",
       "5    12999      13% off             2000  Free delivery  \n",
       "6    12499      10% off             1500  Free delivery  \n",
       "7    19000       5% off             1200  Free delivery  \n",
       "8    12499      10% off             1500  Free delivery  \n",
       "9    21189       6% off             1395  Free delivery  \n",
       "10   13871       2% off              299  Free delivery  \n",
       "11   11159       1% off              141  Free delivery  \n",
       "12   19999      39% off            13101  Free delivery  \n",
       "13    7999      23% off             2500  Free delivery  \n",
       "14   17799       1% off              351  Free delivery  \n",
       "15    7999      23% off             2500  Free delivery  \n",
       "16   13490       0% off                0  Free delivery  \n",
       "17   17708       2% off              492  Free delivery  \n",
       "18   32849       0% off              141  Free delivery  \n",
       "19   15148       5% off              832  Free delivery  \n",
       "20   15199       6% off             1051  Free delivery  \n",
       "21   21999       8% off             2000  Free delivery  \n",
       "22    2499       0% off                0  Free delivery  \n",
       "23   11244      12% off             1656  Free delivery  "
      ]
     },
     "execution_count": 33,
     "metadata": {},
     "output_type": "execute_result"
    }
   ],
   "source": [
    "data"
   ]
  },
  {
   "cell_type": "code",
   "execution_count": 34,
   "id": "a7bae44d",
   "metadata": {},
   "outputs": [
    {
     "data": {
      "text/html": [
       "<div>\n",
       "<style scoped>\n",
       "    .dataframe tbody tr th:only-of-type {\n",
       "        vertical-align: middle;\n",
       "    }\n",
       "\n",
       "    .dataframe tbody tr th {\n",
       "        vertical-align: top;\n",
       "    }\n",
       "\n",
       "    .dataframe thead th {\n",
       "        text-align: right;\n",
       "    }\n",
       "</style>\n",
       "<table border=\"1\" class=\"dataframe\">\n",
       "  <thead>\n",
       "    <tr style=\"text-align: right;\">\n",
       "      <th></th>\n",
       "      <th>Product_Name2</th>\n",
       "      <th>Rating2</th>\n",
       "      <th>Original_Price2</th>\n",
       "      <th>Price2</th>\n",
       "      <th>Discount(%)2</th>\n",
       "      <th>Discount_Price2</th>\n",
       "      <th>Delivery2</th>\n",
       "    </tr>\n",
       "  </thead>\n",
       "  <tbody>\n",
       "    <tr>\n",
       "      <th>0</th>\n",
       "      <td>SAMSUNG Galaxy F22 (Denim Blue, 128 GB)</td>\n",
       "      <td>4.3</td>\n",
       "      <td>16999</td>\n",
       "      <td>14999</td>\n",
       "      <td>11% off</td>\n",
       "      <td>2000</td>\n",
       "      <td>Free delivery</td>\n",
       "    </tr>\n",
       "    <tr>\n",
       "      <th>1</th>\n",
       "      <td>SAMSUNG Galaxy F12 (Sky Blue, 64 GB)</td>\n",
       "      <td>4.2</td>\n",
       "      <td>12999</td>\n",
       "      <td>11499</td>\n",
       "      <td>11% off</td>\n",
       "      <td>1500</td>\n",
       "      <td>Free delivery</td>\n",
       "    </tr>\n",
       "    <tr>\n",
       "      <th>2</th>\n",
       "      <td>SAMSUNG Galaxy F12 (Celestial Black, 64 GB)</td>\n",
       "      <td>4.2</td>\n",
       "      <td>12999</td>\n",
       "      <td>11499</td>\n",
       "      <td>11% off</td>\n",
       "      <td>1500</td>\n",
       "      <td>Free delivery</td>\n",
       "    </tr>\n",
       "    <tr>\n",
       "      <th>3</th>\n",
       "      <td>SAMSUNG Galaxy F22 (Denim Blue, 64 GB)</td>\n",
       "      <td>4.3</td>\n",
       "      <td>14999</td>\n",
       "      <td>12999</td>\n",
       "      <td>13% off</td>\n",
       "      <td>2000</td>\n",
       "      <td>Free delivery</td>\n",
       "    </tr>\n",
       "    <tr>\n",
       "      <th>4</th>\n",
       "      <td>SAMSUNG Galaxy F12 (Sea Green, 64 GB)</td>\n",
       "      <td>4.2</td>\n",
       "      <td>12999</td>\n",
       "      <td>11499</td>\n",
       "      <td>11% off</td>\n",
       "      <td>1500</td>\n",
       "      <td>Free delivery</td>\n",
       "    </tr>\n",
       "    <tr>\n",
       "      <th>5</th>\n",
       "      <td>SAMSUNG Galaxy F22 (Denim Black, 64 GB)</td>\n",
       "      <td>4.3</td>\n",
       "      <td>14999</td>\n",
       "      <td>12999</td>\n",
       "      <td>13% off</td>\n",
       "      <td>2000</td>\n",
       "      <td>Free delivery</td>\n",
       "    </tr>\n",
       "    <tr>\n",
       "      <th>6</th>\n",
       "      <td>SAMSUNG Galaxy F12 (Sky Blue, 128 GB)</td>\n",
       "      <td>4.2</td>\n",
       "      <td>13999</td>\n",
       "      <td>12499</td>\n",
       "      <td>10% off</td>\n",
       "      <td>1500</td>\n",
       "      <td>Free delivery</td>\n",
       "    </tr>\n",
       "    <tr>\n",
       "      <th>7</th>\n",
       "      <td>SAMSUNG M32 5G (Slate Black, 128 GB)</td>\n",
       "      <td>4.2</td>\n",
       "      <td>20200</td>\n",
       "      <td>19000</td>\n",
       "      <td>5% off</td>\n",
       "      <td>1200</td>\n",
       "      <td>Free delivery</td>\n",
       "    </tr>\n",
       "    <tr>\n",
       "      <th>8</th>\n",
       "      <td>SAMSUNG Galaxy F12 (Sea Green, 128 GB)</td>\n",
       "      <td>4.2</td>\n",
       "      <td>13999</td>\n",
       "      <td>12499</td>\n",
       "      <td>10% off</td>\n",
       "      <td>1500</td>\n",
       "      <td>Free delivery</td>\n",
       "    </tr>\n",
       "    <tr>\n",
       "      <th>9</th>\n",
       "      <td>SAMSUNG Galaxy M32 5G (Sky Blue, 128 GB)</td>\n",
       "      <td>4.2</td>\n",
       "      <td>22584</td>\n",
       "      <td>21189</td>\n",
       "      <td>6% off</td>\n",
       "      <td>1395</td>\n",
       "      <td>Free delivery</td>\n",
       "    </tr>\n",
       "    <tr>\n",
       "      <th>10</th>\n",
       "      <td>SAMSUNG Galaxy M12 (White, 128 GB)</td>\n",
       "      <td>4.2</td>\n",
       "      <td>14170</td>\n",
       "      <td>13871</td>\n",
       "      <td>2% off</td>\n",
       "      <td>299</td>\n",
       "      <td>Free delivery</td>\n",
       "    </tr>\n",
       "  </tbody>\n",
       "</table>\n",
       "</div>"
      ],
      "text/plain": [
       "                                  Product_Name2 Rating2  Original_Price2  \\\n",
       "0       SAMSUNG Galaxy F22 (Denim Blue, 128 GB)     4.3            16999   \n",
       "1          SAMSUNG Galaxy F12 (Sky Blue, 64 GB)     4.2            12999   \n",
       "2   SAMSUNG Galaxy F12 (Celestial Black, 64 GB)     4.2            12999   \n",
       "3        SAMSUNG Galaxy F22 (Denim Blue, 64 GB)     4.3            14999   \n",
       "4         SAMSUNG Galaxy F12 (Sea Green, 64 GB)     4.2            12999   \n",
       "5       SAMSUNG Galaxy F22 (Denim Black, 64 GB)     4.3            14999   \n",
       "6         SAMSUNG Galaxy F12 (Sky Blue, 128 GB)     4.2            13999   \n",
       "7          SAMSUNG M32 5G (Slate Black, 128 GB)     4.2            20200   \n",
       "8        SAMSUNG Galaxy F12 (Sea Green, 128 GB)     4.2            13999   \n",
       "9      SAMSUNG Galaxy M32 5G (Sky Blue, 128 GB)     4.2            22584   \n",
       "10           SAMSUNG Galaxy M12 (White, 128 GB)     4.2            14170   \n",
       "\n",
       "    Price2 Discount(%)2  Discount_Price2      Delivery2  \n",
       "0    14999      11% off             2000  Free delivery  \n",
       "1    11499      11% off             1500  Free delivery  \n",
       "2    11499      11% off             1500  Free delivery  \n",
       "3    12999      13% off             2000  Free delivery  \n",
       "4    11499      11% off             1500  Free delivery  \n",
       "5    12999      13% off             2000  Free delivery  \n",
       "6    12499      10% off             1500  Free delivery  \n",
       "7    19000       5% off             1200  Free delivery  \n",
       "8    12499      10% off             1500  Free delivery  \n",
       "9    21189       6% off             1395  Free delivery  \n",
       "10   13871       2% off              299  Free delivery  "
      ]
     },
     "execution_count": 34,
     "metadata": {},
     "output_type": "execute_result"
    }
   ],
   "source": [
    "# Removing the last rows so as to keep only 10 records :\n",
    "# =================================================================================================\n",
    "data.drop(data.tail(13).index,inplace=True)\n",
    "data"
   ]
  },
  {
   "cell_type": "code",
   "execution_count": 35,
   "id": "21e2d1b2",
   "metadata": {},
   "outputs": [],
   "source": [
    "# Converting the dataframe into Excel file\n",
    "# =================================================================================================\n",
    "data.to_excel(\"C:/Users/VidhyaDivya/OneDrive/Desktop/edubridge/Project/excel/flipkart_samsung.xlsx\")"
   ]
  },
  {
   "cell_type": "code",
   "execution_count": 36,
   "id": "367c1c33",
   "metadata": {},
   "outputs": [],
   "source": [
    "# The data is stored in the file mentioned."
   ]
  },
  {
   "cell_type": "code",
   "execution_count": null,
   "id": "6f542b03",
   "metadata": {},
   "outputs": [],
   "source": []
  }
 ],
 "metadata": {
  "kernelspec": {
   "display_name": "Python 3",
   "language": "python",
   "name": "python3"
  },
  "language_info": {
   "codemirror_mode": {
    "name": "ipython",
    "version": 3
   },
   "file_extension": ".py",
   "mimetype": "text/x-python",
   "name": "python",
   "nbconvert_exporter": "python",
   "pygments_lexer": "ipython3",
   "version": "3.8.8"
  }
 },
 "nbformat": 4,
 "nbformat_minor": 5
}
